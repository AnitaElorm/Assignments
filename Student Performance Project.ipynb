{
 "cells": [
  {
   "cell_type": "markdown",
   "id": "d3a626a9",
   "metadata": {},
   "source": [
    "## INTRODUCTION \n",
    "\n",
    "\n",
    "This data was downloaded from kaggel. It contains student test scores on 3 subjects namely math, writing and reading. It also contains certain factors such as gender, race/ethnicity, parental level of education,lunch (whether the students had a standard or free lunch meal) and test preparation course(whether the students took the preparation course). These factors will be tested to show their effect on the overall student performance in math, writing and reading."
   ]
  },
  {
   "cell_type": "markdown",
   "id": "81492d74",
   "metadata": {},
   "source": [
    "## PROBLEM STATEMENT \n",
    "What are the factors influencing student performance in math, writing and reading.\n",
    "\n",
    "### Questions to ask \n",
    "1. Does taking a test prepartion course affect the outcome of students results?\n",
    "2. Does race influence performance of students? \n",
    "3. Does gender(male/female) contribute to student performance?\n",
    "4. Does parental education level affect student performance?\n",
    "5. Is there a correlation between passing a maths test and passing a writing and reading test?"
   ]
  },
  {
   "cell_type": "markdown",
   "id": "72ec658f",
   "metadata": {},
   "source": [
    "## EXPLORATORY DATA ANALYSIS\n",
    "\n",
    "### Data Assessment \n",
    "\n",
    "#### Importing libraries"
   ]
  },
  {
   "cell_type": "code",
   "execution_count": 1,
   "id": "7e321d88",
   "metadata": {},
   "outputs": [],
   "source": [
    "#importing libraries\n",
    "import numpy as np\n",
    "import pandas as pd\n",
    "import matplotlib.pyplot as plt\n",
    "import seaborn as sns"
   ]
  },
  {
   "cell_type": "markdown",
   "id": "6cbea005",
   "metadata": {},
   "source": [
    "#### Loading and checking the data"
   ]
  },
  {
   "cell_type": "code",
   "execution_count": 2,
   "id": "8ac01905",
   "metadata": {},
   "outputs": [],
   "source": [
    "#loading datasets\n",
    "data=pd.read_csv(\"student_performance.csv\")"
   ]
  },
  {
   "cell_type": "markdown",
   "id": "71b73d37",
   "metadata": {},
   "source": [
    "#### Making a copy of the data"
   ]
  },
  {
   "cell_type": "code",
   "execution_count": 3,
   "id": "b0ddf636",
   "metadata": {},
   "outputs": [],
   "source": [
    "dta = data.copy()"
   ]
  },
  {
   "cell_type": "markdown",
   "id": "49087100",
   "metadata": {},
   "source": [
    "####  Checking if the data is ready.  \n",
    "The first  and last 5 rows was displayed to check if the data has been loaded succesfully "
   ]
  },
  {
   "cell_type": "code",
   "execution_count": 4,
   "id": "bce3f2bf",
   "metadata": {},
   "outputs": [
    {
     "data": {
      "text/html": [
       "<div>\n",
       "<style scoped>\n",
       "    .dataframe tbody tr th:only-of-type {\n",
       "        vertical-align: middle;\n",
       "    }\n",
       "\n",
       "    .dataframe tbody tr th {\n",
       "        vertical-align: top;\n",
       "    }\n",
       "\n",
       "    .dataframe thead th {\n",
       "        text-align: right;\n",
       "    }\n",
       "</style>\n",
       "<table border=\"1\" class=\"dataframe\">\n",
       "  <thead>\n",
       "    <tr style=\"text-align: right;\">\n",
       "      <th></th>\n",
       "      <th>gender</th>\n",
       "      <th>race/ethnicity</th>\n",
       "      <th>parental level of education</th>\n",
       "      <th>lunch</th>\n",
       "      <th>test preparation course</th>\n",
       "      <th>math score</th>\n",
       "      <th>reading score</th>\n",
       "      <th>writing score</th>\n",
       "    </tr>\n",
       "  </thead>\n",
       "  <tbody>\n",
       "    <tr>\n",
       "      <th>0</th>\n",
       "      <td>female</td>\n",
       "      <td>group B</td>\n",
       "      <td>bachelor's degree</td>\n",
       "      <td>standard</td>\n",
       "      <td>none</td>\n",
       "      <td>72</td>\n",
       "      <td>72</td>\n",
       "      <td>74</td>\n",
       "    </tr>\n",
       "    <tr>\n",
       "      <th>1</th>\n",
       "      <td>female</td>\n",
       "      <td>group C</td>\n",
       "      <td>some college</td>\n",
       "      <td>standard</td>\n",
       "      <td>completed</td>\n",
       "      <td>69</td>\n",
       "      <td>90</td>\n",
       "      <td>88</td>\n",
       "    </tr>\n",
       "    <tr>\n",
       "      <th>2</th>\n",
       "      <td>female</td>\n",
       "      <td>group B</td>\n",
       "      <td>master's degree</td>\n",
       "      <td>standard</td>\n",
       "      <td>none</td>\n",
       "      <td>90</td>\n",
       "      <td>95</td>\n",
       "      <td>93</td>\n",
       "    </tr>\n",
       "    <tr>\n",
       "      <th>3</th>\n",
       "      <td>male</td>\n",
       "      <td>group A</td>\n",
       "      <td>associate's degree</td>\n",
       "      <td>free/reduced</td>\n",
       "      <td>none</td>\n",
       "      <td>47</td>\n",
       "      <td>57</td>\n",
       "      <td>44</td>\n",
       "    </tr>\n",
       "    <tr>\n",
       "      <th>4</th>\n",
       "      <td>male</td>\n",
       "      <td>group C</td>\n",
       "      <td>some college</td>\n",
       "      <td>standard</td>\n",
       "      <td>none</td>\n",
       "      <td>76</td>\n",
       "      <td>78</td>\n",
       "      <td>75</td>\n",
       "    </tr>\n",
       "  </tbody>\n",
       "</table>\n",
       "</div>"
      ],
      "text/plain": [
       "   gender race/ethnicity parental level of education         lunch  \\\n",
       "0  female        group B           bachelor's degree      standard   \n",
       "1  female        group C                some college      standard   \n",
       "2  female        group B             master's degree      standard   \n",
       "3    male        group A          associate's degree  free/reduced   \n",
       "4    male        group C                some college      standard   \n",
       "\n",
       "  test preparation course  math score  reading score  writing score  \n",
       "0                    none          72             72             74  \n",
       "1               completed          69             90             88  \n",
       "2                    none          90             95             93  \n",
       "3                    none          47             57             44  \n",
       "4                    none          76             78             75  "
      ]
     },
     "execution_count": 4,
     "metadata": {},
     "output_type": "execute_result"
    }
   ],
   "source": [
    "data.head()"
   ]
  },
  {
   "cell_type": "code",
   "execution_count": 5,
   "id": "9864b73c",
   "metadata": {},
   "outputs": [
    {
     "data": {
      "text/html": [
       "<div>\n",
       "<style scoped>\n",
       "    .dataframe tbody tr th:only-of-type {\n",
       "        vertical-align: middle;\n",
       "    }\n",
       "\n",
       "    .dataframe tbody tr th {\n",
       "        vertical-align: top;\n",
       "    }\n",
       "\n",
       "    .dataframe thead th {\n",
       "        text-align: right;\n",
       "    }\n",
       "</style>\n",
       "<table border=\"1\" class=\"dataframe\">\n",
       "  <thead>\n",
       "    <tr style=\"text-align: right;\">\n",
       "      <th></th>\n",
       "      <th>gender</th>\n",
       "      <th>race/ethnicity</th>\n",
       "      <th>parental level of education</th>\n",
       "      <th>lunch</th>\n",
       "      <th>test preparation course</th>\n",
       "      <th>math score</th>\n",
       "      <th>reading score</th>\n",
       "      <th>writing score</th>\n",
       "    </tr>\n",
       "  </thead>\n",
       "  <tbody>\n",
       "    <tr>\n",
       "      <th>995</th>\n",
       "      <td>female</td>\n",
       "      <td>group E</td>\n",
       "      <td>master's degree</td>\n",
       "      <td>standard</td>\n",
       "      <td>completed</td>\n",
       "      <td>88</td>\n",
       "      <td>99</td>\n",
       "      <td>95</td>\n",
       "    </tr>\n",
       "    <tr>\n",
       "      <th>996</th>\n",
       "      <td>male</td>\n",
       "      <td>group C</td>\n",
       "      <td>high school</td>\n",
       "      <td>free/reduced</td>\n",
       "      <td>none</td>\n",
       "      <td>62</td>\n",
       "      <td>55</td>\n",
       "      <td>55</td>\n",
       "    </tr>\n",
       "    <tr>\n",
       "      <th>997</th>\n",
       "      <td>female</td>\n",
       "      <td>group C</td>\n",
       "      <td>high school</td>\n",
       "      <td>free/reduced</td>\n",
       "      <td>completed</td>\n",
       "      <td>59</td>\n",
       "      <td>71</td>\n",
       "      <td>65</td>\n",
       "    </tr>\n",
       "    <tr>\n",
       "      <th>998</th>\n",
       "      <td>female</td>\n",
       "      <td>group D</td>\n",
       "      <td>some college</td>\n",
       "      <td>standard</td>\n",
       "      <td>completed</td>\n",
       "      <td>68</td>\n",
       "      <td>78</td>\n",
       "      <td>77</td>\n",
       "    </tr>\n",
       "    <tr>\n",
       "      <th>999</th>\n",
       "      <td>female</td>\n",
       "      <td>group D</td>\n",
       "      <td>some college</td>\n",
       "      <td>free/reduced</td>\n",
       "      <td>none</td>\n",
       "      <td>77</td>\n",
       "      <td>86</td>\n",
       "      <td>86</td>\n",
       "    </tr>\n",
       "  </tbody>\n",
       "</table>\n",
       "</div>"
      ],
      "text/plain": [
       "     gender race/ethnicity parental level of education         lunch  \\\n",
       "995  female        group E             master's degree      standard   \n",
       "996    male        group C                 high school  free/reduced   \n",
       "997  female        group C                 high school  free/reduced   \n",
       "998  female        group D                some college      standard   \n",
       "999  female        group D                some college  free/reduced   \n",
       "\n",
       "    test preparation course  math score  reading score  writing score  \n",
       "995               completed          88             99             95  \n",
       "996                    none          62             55             55  \n",
       "997               completed          59             71             65  \n",
       "998               completed          68             78             77  \n",
       "999                    none          77             86             86  "
      ]
     },
     "execution_count": 5,
     "metadata": {},
     "output_type": "execute_result"
    }
   ],
   "source": [
    "data.tail()"
   ]
  },
  {
   "cell_type": "code",
   "execution_count": 6,
   "id": "843929ec",
   "metadata": {},
   "outputs": [
    {
     "data": {
      "text/plain": [
       "(1000, 8)"
      ]
     },
     "execution_count": 6,
     "metadata": {},
     "output_type": "execute_result"
    }
   ],
   "source": [
    "data.shape"
   ]
  },
  {
   "cell_type": "markdown",
   "id": "3906c0e1",
   "metadata": {},
   "source": [
    "The data contains 1000 rows and 8 columns"
   ]
  },
  {
   "cell_type": "code",
   "execution_count": 7,
   "id": "6bcdb447",
   "metadata": {},
   "outputs": [
    {
     "data": {
      "text/plain": [
       "Index(['gender', 'race/ethnicity', 'parental level of education', 'lunch',\n",
       "       'test preparation course', 'math score', 'reading score',\n",
       "       'writing score'],\n",
       "      dtype='object')"
      ]
     },
     "execution_count": 7,
     "metadata": {},
     "output_type": "execute_result"
    }
   ],
   "source": [
    "data.columns  ##checking for the individual columns"
   ]
  },
  {
   "cell_type": "code",
   "execution_count": 8,
   "id": "1a4b0911",
   "metadata": {},
   "outputs": [
    {
     "data": {
      "text/plain": [
       "gender                         0\n",
       "race/ethnicity                 0\n",
       "parental level of education    0\n",
       "lunch                          0\n",
       "test preparation course        0\n",
       "math score                     0\n",
       "reading score                  0\n",
       "writing score                  0\n",
       "dtype: int64"
      ]
     },
     "execution_count": 8,
     "metadata": {},
     "output_type": "execute_result"
    }
   ],
   "source": [
    "data.isna().sum()  ##checking for empty cells"
   ]
  },
  {
   "cell_type": "code",
   "execution_count": 9,
   "id": "039f08c6",
   "metadata": {},
   "outputs": [
    {
     "data": {
      "text/html": [
       "<div>\n",
       "<style scoped>\n",
       "    .dataframe tbody tr th:only-of-type {\n",
       "        vertical-align: middle;\n",
       "    }\n",
       "\n",
       "    .dataframe tbody tr th {\n",
       "        vertical-align: top;\n",
       "    }\n",
       "\n",
       "    .dataframe thead th {\n",
       "        text-align: right;\n",
       "    }\n",
       "</style>\n",
       "<table border=\"1\" class=\"dataframe\">\n",
       "  <thead>\n",
       "    <tr style=\"text-align: right;\">\n",
       "      <th></th>\n",
       "      <th>gender</th>\n",
       "      <th>race/ethnicity</th>\n",
       "      <th>parental level of education</th>\n",
       "      <th>lunch</th>\n",
       "      <th>test preparation course</th>\n",
       "      <th>math score</th>\n",
       "      <th>reading score</th>\n",
       "      <th>writing score</th>\n",
       "    </tr>\n",
       "  </thead>\n",
       "  <tbody>\n",
       "  </tbody>\n",
       "</table>\n",
       "</div>"
      ],
      "text/plain": [
       "Empty DataFrame\n",
       "Columns: [gender, race/ethnicity, parental level of education, lunch, test preparation course, math score, reading score, writing score]\n",
       "Index: []"
      ]
     },
     "execution_count": 9,
     "metadata": {},
     "output_type": "execute_result"
    }
   ],
   "source": [
    "data[data.duplicated()]"
   ]
  },
  {
   "cell_type": "markdown",
   "id": "127e53b5",
   "metadata": {},
   "source": [
    "no duplicates were found in the data"
   ]
  },
  {
   "cell_type": "code",
   "execution_count": 10,
   "id": "3086aff8",
   "metadata": {},
   "outputs": [
    {
     "name": "stdout",
     "output_type": "stream",
     "text": [
      "<class 'pandas.core.frame.DataFrame'>\n",
      "RangeIndex: 1000 entries, 0 to 999\n",
      "Data columns (total 8 columns):\n",
      " #   Column                       Non-Null Count  Dtype \n",
      "---  ------                       --------------  ----- \n",
      " 0   gender                       1000 non-null   object\n",
      " 1   race/ethnicity               1000 non-null   object\n",
      " 2   parental level of education  1000 non-null   object\n",
      " 3   lunch                        1000 non-null   object\n",
      " 4   test preparation course      1000 non-null   object\n",
      " 5   math score                   1000 non-null   int64 \n",
      " 6   reading score                1000 non-null   int64 \n",
      " 7   writing score                1000 non-null   int64 \n",
      "dtypes: int64(3), object(5)\n",
      "memory usage: 62.6+ KB\n"
     ]
    }
   ],
   "source": [
    "data.info()"
   ]
  },
  {
   "cell_type": "markdown",
   "id": "491a5315",
   "metadata": {},
   "source": [
    "#### Data Cleaning"
   ]
  },
  {
   "cell_type": "code",
   "execution_count": 11,
   "id": "ba0e5560",
   "metadata": {},
   "outputs": [],
   "source": [
    "data.rename(columns = {'race/ethnicity':'race'}, inplace = True)"
   ]
  },
  {
   "cell_type": "code",
   "execution_count": 12,
   "id": "5b64b2d1",
   "metadata": {},
   "outputs": [],
   "source": [
    "data.columns = data.columns.str.replace(' ','_')"
   ]
  },
  {
   "cell_type": "code",
   "execution_count": 13,
   "id": "0976afc4",
   "metadata": {},
   "outputs": [
    {
     "name": "stdout",
     "output_type": "stream",
     "text": [
      "<class 'pandas.core.frame.DataFrame'>\n",
      "RangeIndex: 1000 entries, 0 to 999\n",
      "Data columns (total 8 columns):\n",
      " #   Column                       Non-Null Count  Dtype \n",
      "---  ------                       --------------  ----- \n",
      " 0   gender                       1000 non-null   object\n",
      " 1   race                         1000 non-null   object\n",
      " 2   parental_level_of_education  1000 non-null   object\n",
      " 3   lunch                        1000 non-null   object\n",
      " 4   test_preparation_course      1000 non-null   object\n",
      " 5   math_score                   1000 non-null   int64 \n",
      " 6   reading_score                1000 non-null   int64 \n",
      " 7   writing_score                1000 non-null   int64 \n",
      "dtypes: int64(3), object(5)\n",
      "memory usage: 62.6+ KB\n"
     ]
    }
   ],
   "source": [
    "data.info()"
   ]
  },
  {
   "cell_type": "code",
   "execution_count": 14,
   "id": "3a24d902",
   "metadata": {},
   "outputs": [],
   "source": [
    "cols = ['gender', 'race', 'lunch', 'test_preparation_course',]\n",
    "data[cols] = data[cols].astype('category')"
   ]
  },
  {
   "cell_type": "code",
   "execution_count": 15,
   "id": "c5aa0f62",
   "metadata": {},
   "outputs": [
    {
     "name": "stdout",
     "output_type": "stream",
     "text": [
      "<class 'pandas.core.frame.DataFrame'>\n",
      "RangeIndex: 1000 entries, 0 to 999\n",
      "Data columns (total 8 columns):\n",
      " #   Column                       Non-Null Count  Dtype   \n",
      "---  ------                       --------------  -----   \n",
      " 0   gender                       1000 non-null   category\n",
      " 1   race                         1000 non-null   category\n",
      " 2   parental_level_of_education  1000 non-null   object  \n",
      " 3   lunch                        1000 non-null   category\n",
      " 4   test_preparation_course      1000 non-null   category\n",
      " 5   math_score                   1000 non-null   int64   \n",
      " 6   reading_score                1000 non-null   int64   \n",
      " 7   writing_score                1000 non-null   int64   \n",
      "dtypes: category(4), int64(3), object(1)\n",
      "memory usage: 35.9+ KB\n"
     ]
    }
   ],
   "source": [
    "data.info()"
   ]
  },
  {
   "cell_type": "code",
   "execution_count": 16,
   "id": "8a29391c",
   "metadata": {},
   "outputs": [
    {
     "data": {
      "text/html": [
       "<div>\n",
       "<style scoped>\n",
       "    .dataframe tbody tr th:only-of-type {\n",
       "        vertical-align: middle;\n",
       "    }\n",
       "\n",
       "    .dataframe tbody tr th {\n",
       "        vertical-align: top;\n",
       "    }\n",
       "\n",
       "    .dataframe thead th {\n",
       "        text-align: right;\n",
       "    }\n",
       "</style>\n",
       "<table border=\"1\" class=\"dataframe\">\n",
       "  <thead>\n",
       "    <tr style=\"text-align: right;\">\n",
       "      <th></th>\n",
       "      <th>math_score</th>\n",
       "      <th>reading_score</th>\n",
       "      <th>writing_score</th>\n",
       "    </tr>\n",
       "  </thead>\n",
       "  <tbody>\n",
       "    <tr>\n",
       "      <th>count</th>\n",
       "      <td>1000.00000</td>\n",
       "      <td>1000.000000</td>\n",
       "      <td>1000.000000</td>\n",
       "    </tr>\n",
       "    <tr>\n",
       "      <th>mean</th>\n",
       "      <td>66.08900</td>\n",
       "      <td>69.169000</td>\n",
       "      <td>68.054000</td>\n",
       "    </tr>\n",
       "    <tr>\n",
       "      <th>std</th>\n",
       "      <td>15.16308</td>\n",
       "      <td>14.600192</td>\n",
       "      <td>15.195657</td>\n",
       "    </tr>\n",
       "    <tr>\n",
       "      <th>min</th>\n",
       "      <td>0.00000</td>\n",
       "      <td>17.000000</td>\n",
       "      <td>10.000000</td>\n",
       "    </tr>\n",
       "    <tr>\n",
       "      <th>25%</th>\n",
       "      <td>57.00000</td>\n",
       "      <td>59.000000</td>\n",
       "      <td>57.750000</td>\n",
       "    </tr>\n",
       "    <tr>\n",
       "      <th>50%</th>\n",
       "      <td>66.00000</td>\n",
       "      <td>70.000000</td>\n",
       "      <td>69.000000</td>\n",
       "    </tr>\n",
       "    <tr>\n",
       "      <th>75%</th>\n",
       "      <td>77.00000</td>\n",
       "      <td>79.000000</td>\n",
       "      <td>79.000000</td>\n",
       "    </tr>\n",
       "    <tr>\n",
       "      <th>max</th>\n",
       "      <td>100.00000</td>\n",
       "      <td>100.000000</td>\n",
       "      <td>100.000000</td>\n",
       "    </tr>\n",
       "  </tbody>\n",
       "</table>\n",
       "</div>"
      ],
      "text/plain": [
       "       math_score  reading_score  writing_score\n",
       "count  1000.00000    1000.000000    1000.000000\n",
       "mean     66.08900      69.169000      68.054000\n",
       "std      15.16308      14.600192      15.195657\n",
       "min       0.00000      17.000000      10.000000\n",
       "25%      57.00000      59.000000      57.750000\n",
       "50%      66.00000      70.000000      69.000000\n",
       "75%      77.00000      79.000000      79.000000\n",
       "max     100.00000     100.000000     100.000000"
      ]
     },
     "execution_count": 16,
     "metadata": {},
     "output_type": "execute_result"
    }
   ],
   "source": [
    "data.describe(include = 'number')"
   ]
  },
  {
   "cell_type": "code",
   "execution_count": 17,
   "id": "278cc22e",
   "metadata": {},
   "outputs": [
    {
     "data": {
      "text/html": [
       "<div>\n",
       "<style scoped>\n",
       "    .dataframe tbody tr th:only-of-type {\n",
       "        vertical-align: middle;\n",
       "    }\n",
       "\n",
       "    .dataframe tbody tr th {\n",
       "        vertical-align: top;\n",
       "    }\n",
       "\n",
       "    .dataframe thead th {\n",
       "        text-align: right;\n",
       "    }\n",
       "</style>\n",
       "<table border=\"1\" class=\"dataframe\">\n",
       "  <thead>\n",
       "    <tr style=\"text-align: right;\">\n",
       "      <th></th>\n",
       "      <th>parental_level_of_education</th>\n",
       "    </tr>\n",
       "  </thead>\n",
       "  <tbody>\n",
       "    <tr>\n",
       "      <th>count</th>\n",
       "      <td>1000</td>\n",
       "    </tr>\n",
       "    <tr>\n",
       "      <th>unique</th>\n",
       "      <td>6</td>\n",
       "    </tr>\n",
       "    <tr>\n",
       "      <th>top</th>\n",
       "      <td>some college</td>\n",
       "    </tr>\n",
       "    <tr>\n",
       "      <th>freq</th>\n",
       "      <td>226</td>\n",
       "    </tr>\n",
       "  </tbody>\n",
       "</table>\n",
       "</div>"
      ],
      "text/plain": [
       "       parental_level_of_education\n",
       "count                         1000\n",
       "unique                           6\n",
       "top                   some college\n",
       "freq                           226"
      ]
     },
     "execution_count": 17,
     "metadata": {},
     "output_type": "execute_result"
    }
   ],
   "source": [
    "data.describe(include = 'object')"
   ]
  },
  {
   "cell_type": "code",
   "execution_count": 18,
   "id": "30f52954",
   "metadata": {},
   "outputs": [
    {
     "data": {
      "text/html": [
       "<div>\n",
       "<style scoped>\n",
       "    .dataframe tbody tr th:only-of-type {\n",
       "        vertical-align: middle;\n",
       "    }\n",
       "\n",
       "    .dataframe tbody tr th {\n",
       "        vertical-align: top;\n",
       "    }\n",
       "\n",
       "    .dataframe thead th {\n",
       "        text-align: right;\n",
       "    }\n",
       "</style>\n",
       "<table border=\"1\" class=\"dataframe\">\n",
       "  <thead>\n",
       "    <tr style=\"text-align: right;\">\n",
       "      <th></th>\n",
       "      <th>gender</th>\n",
       "      <th>race</th>\n",
       "      <th>lunch</th>\n",
       "      <th>test_preparation_course</th>\n",
       "    </tr>\n",
       "  </thead>\n",
       "  <tbody>\n",
       "    <tr>\n",
       "      <th>count</th>\n",
       "      <td>1000</td>\n",
       "      <td>1000</td>\n",
       "      <td>1000</td>\n",
       "      <td>1000</td>\n",
       "    </tr>\n",
       "    <tr>\n",
       "      <th>unique</th>\n",
       "      <td>2</td>\n",
       "      <td>5</td>\n",
       "      <td>2</td>\n",
       "      <td>2</td>\n",
       "    </tr>\n",
       "    <tr>\n",
       "      <th>top</th>\n",
       "      <td>female</td>\n",
       "      <td>group C</td>\n",
       "      <td>standard</td>\n",
       "      <td>none</td>\n",
       "    </tr>\n",
       "    <tr>\n",
       "      <th>freq</th>\n",
       "      <td>518</td>\n",
       "      <td>319</td>\n",
       "      <td>645</td>\n",
       "      <td>642</td>\n",
       "    </tr>\n",
       "  </tbody>\n",
       "</table>\n",
       "</div>"
      ],
      "text/plain": [
       "        gender     race     lunch test_preparation_course\n",
       "count     1000     1000      1000                    1000\n",
       "unique       2        5         2                       2\n",
       "top     female  group C  standard                    none\n",
       "freq       518      319       645                     642"
      ]
     },
     "execution_count": 18,
     "metadata": {},
     "output_type": "execute_result"
    }
   ],
   "source": [
    "data.describe(include = 'category')"
   ]
  },
  {
   "cell_type": "code",
   "execution_count": 19,
   "id": "f6f1cf5c",
   "metadata": {},
   "outputs": [
    {
     "name": "stdout",
     "output_type": "stream",
     "text": [
      "gender\n",
      "female    518\n",
      "male      482\n",
      "Name: gender, dtype: int64\n",
      "race\n",
      "group C    319\n",
      "group D    262\n",
      "group B    190\n",
      "group E    140\n",
      "group A     89\n",
      "Name: race, dtype: int64\n",
      "parental_level_of_education\n",
      "some college          226\n",
      "associate's degree    222\n",
      "high school           196\n",
      "some high school      179\n",
      "bachelor's degree     118\n",
      "master's degree        59\n",
      "Name: parental_level_of_education, dtype: int64\n",
      "lunch\n",
      "standard        645\n",
      "free/reduced    355\n",
      "Name: lunch, dtype: int64\n"
     ]
    }
   ],
   "source": [
    "for i in range(4):\n",
    "    print(data.columns[i])\n",
    "    print(data[data.columns[i]].value_counts())"
   ]
  },
  {
   "cell_type": "code",
   "execution_count": 20,
   "id": "fef957c8",
   "metadata": {},
   "outputs": [
    {
     "data": {
      "text/html": [
       "<div>\n",
       "<style scoped>\n",
       "    .dataframe tbody tr th:only-of-type {\n",
       "        vertical-align: middle;\n",
       "    }\n",
       "\n",
       "    .dataframe tbody tr th {\n",
       "        vertical-align: top;\n",
       "    }\n",
       "\n",
       "    .dataframe thead th {\n",
       "        text-align: right;\n",
       "    }\n",
       "</style>\n",
       "<table border=\"1\" class=\"dataframe\">\n",
       "  <thead>\n",
       "    <tr style=\"text-align: right;\">\n",
       "      <th></th>\n",
       "      <th>math_score</th>\n",
       "      <th>reading_score</th>\n",
       "      <th>writing_score</th>\n",
       "      <th>total_percentage</th>\n",
       "    </tr>\n",
       "  </thead>\n",
       "  <tbody>\n",
       "    <tr>\n",
       "      <th>0</th>\n",
       "      <td>72</td>\n",
       "      <td>72</td>\n",
       "      <td>74</td>\n",
       "      <td>73.0</td>\n",
       "    </tr>\n",
       "    <tr>\n",
       "      <th>1</th>\n",
       "      <td>69</td>\n",
       "      <td>90</td>\n",
       "      <td>88</td>\n",
       "      <td>82.0</td>\n",
       "    </tr>\n",
       "    <tr>\n",
       "      <th>2</th>\n",
       "      <td>90</td>\n",
       "      <td>95</td>\n",
       "      <td>93</td>\n",
       "      <td>93.0</td>\n",
       "    </tr>\n",
       "    <tr>\n",
       "      <th>3</th>\n",
       "      <td>47</td>\n",
       "      <td>57</td>\n",
       "      <td>44</td>\n",
       "      <td>49.0</td>\n",
       "    </tr>\n",
       "    <tr>\n",
       "      <th>4</th>\n",
       "      <td>76</td>\n",
       "      <td>78</td>\n",
       "      <td>75</td>\n",
       "      <td>76.0</td>\n",
       "    </tr>\n",
       "    <tr>\n",
       "      <th>5</th>\n",
       "      <td>71</td>\n",
       "      <td>83</td>\n",
       "      <td>78</td>\n",
       "      <td>77.0</td>\n",
       "    </tr>\n",
       "    <tr>\n",
       "      <th>6</th>\n",
       "      <td>88</td>\n",
       "      <td>95</td>\n",
       "      <td>92</td>\n",
       "      <td>92.0</td>\n",
       "    </tr>\n",
       "    <tr>\n",
       "      <th>7</th>\n",
       "      <td>40</td>\n",
       "      <td>43</td>\n",
       "      <td>39</td>\n",
       "      <td>41.0</td>\n",
       "    </tr>\n",
       "    <tr>\n",
       "      <th>8</th>\n",
       "      <td>64</td>\n",
       "      <td>64</td>\n",
       "      <td>67</td>\n",
       "      <td>65.0</td>\n",
       "    </tr>\n",
       "    <tr>\n",
       "      <th>9</th>\n",
       "      <td>38</td>\n",
       "      <td>60</td>\n",
       "      <td>50</td>\n",
       "      <td>49.0</td>\n",
       "    </tr>\n",
       "  </tbody>\n",
       "</table>\n",
       "</div>"
      ],
      "text/plain": [
       "   math_score  reading_score  writing_score  total_percentage\n",
       "0          72             72             74              73.0\n",
       "1          69             90             88              82.0\n",
       "2          90             95             93              93.0\n",
       "3          47             57             44              49.0\n",
       "4          76             78             75              76.0\n",
       "5          71             83             78              77.0\n",
       "6          88             95             92              92.0\n",
       "7          40             43             39              41.0\n",
       "8          64             64             67              65.0\n",
       "9          38             60             50              49.0"
      ]
     },
     "execution_count": 20,
     "metadata": {},
     "output_type": "execute_result"
    }
   ],
   "source": [
    "data['total_percentage'] = 100 * (data['math_score'] + data['reading_score'] + data['writing_score'])/300\n",
    "data[['math_score', 'reading_score', 'writing_score', 'total_percentage']].round().head(10)"
   ]
  },
  {
   "cell_type": "markdown",
   "id": "39f5f713",
   "metadata": {},
   "source": [
    "Data Cleaning summary\n",
    "- Ethnicity/race columm was renamed race\n",
    "- Whitespace were replaced with underscore for easy reading\n",
    "- The datatype of gender, race, lunch and test preparation score was changed from object to category.\n",
    "- A new column was added for total percentage for each student for the 3 test scores"
   ]
  },
  {
   "cell_type": "markdown",
   "id": "e4855774",
   "metadata": {},
   "source": [
    "#### Data Analysis and visualization"
   ]
  },
  {
   "cell_type": "markdown",
   "id": "f75b986a",
   "metadata": {},
   "source": [
    "Getting the means of math, reading and writing score"
   ]
  },
  {
   "cell_type": "code",
   "execution_count": 21,
   "id": "3fc9c14d",
   "metadata": {},
   "outputs": [
    {
     "name": "stdout",
     "output_type": "stream",
     "text": [
      "Average score in Math : 66.089\n",
      "Average score in Reading : 69.169\n",
      "Average score in Writing : 68.054\n",
      "\n"
     ]
    }
   ],
   "source": [
    "math_mean = data['math_score'].mean()\n",
    "reading_mean = data['reading_score'].mean()\n",
    "writing_mean = data['writing_score'].mean()\n",
    "\n",
    "print(f'Average score in Math : { math_mean }\\nAverage score in Reading : { reading_mean }\\nAverage score in Writing : { writing_mean }\\n')\n"
   ]
  },
  {
   "cell_type": "markdown",
   "id": "8cb19f62",
   "metadata": {},
   "source": [
    "Checking for the distribution on the scores"
   ]
  },
  {
   "cell_type": "code",
   "execution_count": 22,
   "id": "e9eba527",
   "metadata": {},
   "outputs": [
    {
     "data": {
      "image/png": "[encoded data removed]",
      "text/plain": [
       "<Figure size 800x400 with 1 Axes>"
      ]
     },
     "metadata": {},
     "output_type": "display_data"
    },
    {
     "data": {
      "image/png": "[encoded data removed]",
      "text/plain": [
       "<Figure size 800x400 with 1 Axes>"
      ]
     },
     "metadata": {},
     "output_type": "display_data"
    },
    {
     "data": {
      "image/png": "[encoded data removed]",
      "text/plain": [
       "<Figure size 800x400 with 1 Axes>"
      ]
     },
     "metadata": {},
     "output_type": "display_data"
    }
   ],
   "source": [
    "test_scores = data[['math_score','reading_score','writing_score']]\n",
    "for i,col in enumerate(test_scores):\n",
    "    plt.figure(figsize=(8,4))\n",
    "    bins='auto'\n",
    "    if i in [0,1]:\n",
    "        bins=25\n",
    "    plt.subplot(1,3,1)\n",
    "    sns.histplot(data = data,x=col,stat='count',bins=bins,color='gray')\n",
    "    plt.title(f'Histogram of {col}',size=10)"
   ]
  },
  {
   "cell_type": "markdown",
   "id": "330ecb22",
   "metadata": {},
   "source": [
    "The scores for math, reading and writing are evenly distributed. Majority of the students scored between 50 and 80 for all 3 test which is great when we compare the means of the individual test scores "
   ]
  },
  {
   "cell_type": "markdown",
   "id": "e224ea39",
   "metadata": {},
   "source": [
    "##### Test preparation course and student scores"
   ]
  },
  {
   "cell_type": "code",
   "execution_count": 23,
   "id": "771d6fb5",
   "metadata": {},
   "outputs": [
    {
     "data": {
      "image/png": "[encoded data removed]",
      "text/plain": [
       "<Figure size 1920x480 with 3 Axes>"
      ]
     },
     "metadata": {},
     "output_type": "display_data"
    }
   ],
   "source": [
    "fig, ax = plt.subplots(1, 3, figsize = (16, 4), sharey = True, dpi = 120)\n",
    "\n",
    "sns.histplot(x = 'math_score', data= data, ax = ax[0], hue = 'test_preparation_course', palette = 'icefire')\n",
    "sns.histplot(x = 'reading_score', data = data, ax = ax[1], hue = 'test_preparation_course', palette = 'icefire')\n",
    "sns.histplot(x = 'writing_score', data = data, ax = ax[2], hue = 'test_preparation_course', palette = 'icefire')\n",
    "\n",
    "plt.show()"
   ]
  },
  {
   "cell_type": "markdown",
   "id": "70dfdb80",
   "metadata": {},
   "source": [
    "Students who took the test preparation course did better in their test as seen in the chart above."
   ]
  },
  {
   "cell_type": "markdown",
   "id": "f926bd78",
   "metadata": {},
   "source": [
    "##### Race influence on test score"
   ]
  },
  {
   "cell_type": "code",
   "execution_count": 24,
   "id": "becbb411",
   "metadata": {},
   "outputs": [
    {
     "data": {
      "image/png": "[encoded data removed]",
      "text/plain": [
       "<Figure size 720x480 with 1 Axes>"
      ]
     },
     "metadata": {},
     "output_type": "display_data"
    }
   ],
   "source": [
    "fig, ax = plt.subplots(figsize = (6, 4), dpi = 120)\n",
    "\n",
    "sns.boxplot( x = 'race', data = data, y = 'total_percentage', ax = ax, palette = 'icefire')\n",
    "\n",
    "plt.show()"
   ]
  },
  {
   "cell_type": "markdown",
   "id": "5432994f",
   "metadata": {},
   "source": [
    "From the chart above students in race group E had a sightly higher percentage in scores."
   ]
  },
  {
   "cell_type": "markdown",
   "id": "0f1cd2d3",
   "metadata": {},
   "source": [
    "##### Gender and test scores"
   ]
  },
  {
   "cell_type": "code",
   "execution_count": 25,
   "id": "f6c23436",
   "metadata": {},
   "outputs": [
    {
     "data": {
      "image/png": "[encoded data removed]",
      "text/plain": [
       "<Figure size 1440x480 with 3 Axes>"
      ]
     },
     "metadata": {},
     "output_type": "display_data"
    }
   ],
   "source": [
    "fig, ax = plt.subplots(1, 3, figsize = (12, 4), sharey = True, dpi = 120)\n",
    "\n",
    "ax[0].set(ylim = (60, 80))\n",
    "sns.pointplot(y = 'math_score', data = data, ax = ax[0], x = 'gender', color = 'gray')\n",
    "sns.pointplot(y = 'reading_score', data = data, ax = ax[1], x = 'gender', color = 'gray')\n",
    "sns.pointplot(y = 'writing_score', data = data, ax = ax[2], x = 'gender', color = 'gray')\n",
    "\n",
    "plt.show()"
   ]
  },
  {
   "cell_type": "markdown",
   "id": "d646f926",
   "metadata": {},
   "source": [
    "Females did better in reading and writing than in maths. Males had higher scores in maths than females"
   ]
  },
  {
   "cell_type": "code",
   "execution_count": null,
   "id": "eb4547d2",
   "metadata": {},
   "outputs": [],
   "source": [
    "#### Parental Educational Level and Students total performance "
   ]
  },
  {
   "cell_type": "code",
   "execution_count": 38,
   "id": "62541b5a",
   "metadata": {},
   "outputs": [
    {
     "data": {
      "image/png": "[encoded data removed]",
      "text/plain": [
       "<Figure size 640x480 with 1 Axes>"
      ]
     },
     "metadata": {},
     "output_type": "display_data"
    }
   ],
   "source": [
    "sns.boxplot(data = data, x = 'parental_level_of_education', y = 'total_percentage', palette = 'icefire')\n",
    "plt.xticks(rotation=90)\n",
    "plt.show()"
   ]
  },
  {
   "cell_type": "markdown",
   "id": "231ebef6",
   "metadata": {},
   "source": [
    "From the insight drawn, parental educational level has a positive effect on the students test scores. Parents with masters degree have kids who perform better in test compared to parents with  high school certificates."
   ]
  },
  {
   "cell_type": "markdown",
   "id": "810d3853",
   "metadata": {},
   "source": [
    "### STATISTICAL TEST "
   ]
  },
  {
   "cell_type": "markdown",
   "id": "35779193",
   "metadata": {},
   "source": [
    "##### Pearsons's R Correlational Test"
   ]
  },
  {
   "cell_type": "code",
   "execution_count": 26,
   "id": "494a061a",
   "metadata": {},
   "outputs": [
    {
     "data": {
      "text/html": [
       "<div>\n",
       "<style scoped>\n",
       "    .dataframe tbody tr th:only-of-type {\n",
       "        vertical-align: middle;\n",
       "    }\n",
       "\n",
       "    .dataframe tbody tr th {\n",
       "        vertical-align: top;\n",
       "    }\n",
       "\n",
       "    .dataframe thead th {\n",
       "        text-align: right;\n",
       "    }\n",
       "</style>\n",
       "<table border=\"1\" class=\"dataframe\">\n",
       "  <thead>\n",
       "    <tr style=\"text-align: right;\">\n",
       "      <th></th>\n",
       "      <th>math_score</th>\n",
       "      <th>reading_score</th>\n",
       "      <th>writing_score</th>\n",
       "    </tr>\n",
       "  </thead>\n",
       "  <tbody>\n",
       "    <tr>\n",
       "      <th>math_score</th>\n",
       "      <td>1.000000</td>\n",
       "      <td>0.817580</td>\n",
       "      <td>0.802642</td>\n",
       "    </tr>\n",
       "    <tr>\n",
       "      <th>reading_score</th>\n",
       "      <td>0.817580</td>\n",
       "      <td>1.000000</td>\n",
       "      <td>0.954598</td>\n",
       "    </tr>\n",
       "    <tr>\n",
       "      <th>writing_score</th>\n",
       "      <td>0.802642</td>\n",
       "      <td>0.954598</td>\n",
       "      <td>1.000000</td>\n",
       "    </tr>\n",
       "  </tbody>\n",
       "</table>\n",
       "</div>"
      ],
      "text/plain": [
       "               math_score  reading_score  writing_score\n",
       "math_score       1.000000       0.817580       0.802642\n",
       "reading_score    0.817580       1.000000       0.954598\n",
       "writing_score    0.802642       0.954598       1.000000"
      ]
     },
     "execution_count": 26,
     "metadata": {},
     "output_type": "execute_result"
    }
   ],
   "source": [
    "corr_matrix = data[['math_score','reading_score','writing_score']].corr()\n",
    "corr_matrix"
   ]
  },
  {
   "cell_type": "code",
   "execution_count": 27,
   "id": "06810e47",
   "metadata": {},
   "outputs": [
    {
     "data": {
      "image/png": "[encoded data removed]",
      "text/plain": [
       "<Figure size 640x480 with 2 Axes>"
      ]
     },
     "metadata": {},
     "output_type": "display_data"
    }
   ],
   "source": [
    "sns.heatmap(corr_matrix, square = True, cmap = 'icefire',annot=True, vmin = -1, vmax = 1, )\n",
    "\n",
    "plt.show()"
   ]
  },
  {
   "cell_type": "markdown",
   "id": "d999bc6c",
   "metadata": {},
   "source": [
    "This is to check if having a high score in maths is positively correlated to having a high score in both reading and writing. As seen students who did well in maths did well in the other subjects too."
   ]
  },
  {
   "cell_type": "markdown",
   "id": "e9ebe8ad",
   "metadata": {},
   "source": [
    "### Conclusion"
   ]
  },
  {
   "cell_type": "markdown",
   "id": "abe7dd2a",
   "metadata": {},
   "source": [
    "From the data and analysis made it can be concluded that \n",
    "- Taking a course prepartion test before the actual examination leads to getting high scores in all the 3 subjects\n",
    "- Race does not influece the test scores significantly\n",
    "- Females tend to have higher scores in reading and writing than males. Males have higher scores in maths than females\n",
    "- When a student gets a high score in maths they are more likely to also get a high score in reading and writing "
   ]
  },
  {
   "cell_type": "markdown",
   "id": "22866ea9",
   "metadata": {},
   "source": [
    "### MACHINE LEARNING\n",
    "#### LINEAR REGRESSION "
   ]
  },
  {
   "cell_type": "code",
   "execution_count": 28,
   "id": "a13248ec",
   "metadata": {},
   "outputs": [],
   "source": [
    "#Creating the variables of X and y\n",
    "\n",
    "X = data[['test_preparation_course','math_score']]\n",
    "y = data['total_percentage']"
   ]
  },
  {
   "cell_type": "code",
   "execution_count": 29,
   "id": "56f656ae",
   "metadata": {},
   "outputs": [
    {
     "name": "stdout",
     "output_type": "stream",
     "text": [
      "     test_preparation_course  math_score\n",
      "0                          1          72\n",
      "1                          0          69\n",
      "2                          1          90\n",
      "3                          1          47\n",
      "4                          1          76\n",
      "..                       ...         ...\n",
      "995                        0          88\n",
      "996                        1          62\n",
      "997                        0          59\n",
      "998                        0          68\n",
      "999                        1          77\n",
      "\n",
      "[1000 rows x 2 columns]\n"
     ]
    },
    {
     "name": "stderr",
     "output_type": "stream",
     "text": [
      "C:\\Users\\Anita Elorm\\AppData\\Local\\Temp\\ipykernel_15040\\807990805.py:6: SettingWithCopyWarning: \n",
      "A value is trying to be set on a copy of a slice from a DataFrame.\n",
      "Try using .loc[row_indexer,col_indexer] = value instead\n",
      "\n",
      "See the caveats in the documentation: https://pandas.pydata.org/pandas-docs/stable/user_guide/indexing.html#returning-a-view-versus-a-copy\n",
      "  X['test_preparation_course'] = labelencoder.fit_transform(X['test_preparation_course'])\n"
     ]
    }
   ],
   "source": [
    "#Transforming the parentalLOE column with Label Encoder\n",
    "\n",
    "from sklearn.preprocessing import LabelEncoder\n",
    "labelencoder = LabelEncoder()\n",
    "\n",
    "X['test_preparation_course'] = labelencoder.fit_transform(X['test_preparation_course'])\n",
    "\n",
    "print(X)"
   ]
  },
  {
   "cell_type": "code",
   "execution_count": 30,
   "id": "617d6f03",
   "metadata": {},
   "outputs": [],
   "source": [
    "#Splitting the dataset into the training set and test set\n",
    "\n",
    "from sklearn.model_selection import train_test_split\n",
    "\n",
    "X_train, X_test, y_train, y_test = train_test_split(X,y, test_size=0.2, random_state=21)"
   ]
  },
  {
   "cell_type": "code",
   "execution_count": 31,
   "id": "06cd06bd",
   "metadata": {},
   "outputs": [
    {
     "data": {
      "text/plain": [
       "LinearRegression()"
      ]
     },
     "execution_count": 31,
     "metadata": {},
     "output_type": "execute_result"
    }
   ],
   "source": [
    "#Fitting Multiple Linear Reggression to the Training Set\n",
    "\n",
    "from sklearn.linear_model import LinearRegression\n",
    "\n",
    "regressor = LinearRegression()\n",
    "regressor.fit(X_train, y_train)"
   ]
  },
  {
   "cell_type": "code",
   "execution_count": 32,
   "id": "ab632a38",
   "metadata": {},
   "outputs": [
    {
     "data": {
      "text/plain": [
       "array([80.9243808 , 42.97226562, 74.17733811, 59.83987237, 61.52663305,\n",
       "       93.57508587, 71.64719709, 75.02071844, 77.55085946, 70.45396998,\n",
       "       89.35818418, 68.76720931, 73.33395777, 63.21339372, 77.55085946,\n",
       "       78.04439302, 69.96043642, 98.28552112, 76.35763235, 78.88777336,\n",
       "       72.49057743, 72.14073066, 85.98466283, 58.1531117 , 45.50240664,\n",
       "       66.2370683 , 40.44212461, 74.67087167, 62.37001338, 52.24944933,\n",
       "       77.55085946, 78.39423979, 32.85170157, 75.51425201, 65.39368796,\n",
       "       60.68325271, 49.36946155, 85.14128249, 81.41791437, 62.37001338,\n",
       "       63.21339372, 66.58691507, 40.93565818, 71.64719709, 59.83987237,\n",
       "       72.49057743, 52.24944933, 62.02016661, 76.35763235, 80.9243808 ,\n",
       "       78.39423979, 50.56268866, 67.43029541, 56.46635102, 76.70747912,\n",
       "       95.26184654, 66.58691507, 64.05677406, 64.05677406, 60.68325271,\n",
       "       53.93621001, 70.80381676, 60.68325271, 53.09282967, 46.34578697,\n",
       "       67.08044863, 63.70692729, 73.33395777, 58.64664526, 81.76776114,\n",
       "       53.09282967, 63.70692729, 62.37001338, 48.03254765, 64.05677406,\n",
       "       80.08100047, 83.94805538, 64.05677406, 49.36946155, 80.08100047,\n",
       "       64.05677406, 59.83987237, 59.83987237, 75.02071844, 80.08100047,\n",
       "       75.02071844, 82.61114148, 64.05677406, 77.55085946, 57.30973136,\n",
       "       66.2370683 , 84.79143572, 85.14128249, 67.43029541, 92.38185876,\n",
       "       70.45396998, 69.11705608, 63.70692729, 52.7429829 , 44.6590263 ,\n",
       "       73.33395777, 66.58691507, 35.38184259, 94.91199977, 70.45396998,\n",
       "       51.406069  , 73.82749133, 79.23762013, 69.11705608, 48.87592798,\n",
       "       70.80381676, 75.02071844, 63.21339372, 68.27367574, 59.83987237,\n",
       "       69.11705608, 58.1531117 , 50.56268866, 48.87592798, 62.02016661,\n",
       "       56.95988459, 83.94805538, 47.68270088, 63.21339372, 47.18916731,\n",
       "       62.37001338, 74.17733811, 88.51480384, 63.21339372, 75.86409878,\n",
       "       65.74353473, 50.21284189, 51.406069  , 69.61058965, 78.88777336,\n",
       "       67.08044863, 66.58691507, 56.46635102, 75.02071844, 70.45396998,\n",
       "       64.55030762, 59.83987237, 66.58691507, 74.17733811, 69.11705608,\n",
       "       54.77959035, 65.74353473, 77.55085946, 40.44212461, 69.96043642,\n",
       "       67.08044863, 66.58691507, 72.49057743, 72.14073066, 63.21339372,\n",
       "       66.58691507, 77.55085946, 77.55085946, 52.24944933, 78.88777336,\n",
       "       71.29735032, 79.23762013, 63.70692729, 72.49057743, 52.7429829 ,\n",
       "       53.09282967, 31.1649409 , 93.22523909, 88.16495707, 81.41791437,\n",
       "       85.63481606, 98.28552112, 72.14073066, 63.21339372, 58.1531117 ,\n",
       "       79.23762013, 73.33395777, 64.90015439, 48.03254765, 67.92382897,\n",
       "       62.86354695, 68.76720931, 67.92382897, 59.83987237, 64.05677406,\n",
       "       55.62297068, 86.82804317, 63.70692729, 63.21339372, 57.80326492,\n",
       "       51.89960256, 49.71930832, 61.52663305, 71.29735032, 64.55030762,\n",
       "       45.50240664, 63.70692729, 87.32157673, 62.37001338, 65.74353473])"
      ]
     },
     "execution_count": 32,
     "metadata": {},
     "output_type": "execute_result"
    }
   ],
   "source": [
    "#Predictiing the Test Set Result\n",
    "\n",
    "y_prediction = regressor.predict(X_test)\n",
    "y_prediction"
   ]
  },
  {
   "cell_type": "code",
   "execution_count": 33,
   "id": "1158205a",
   "metadata": {},
   "outputs": [
    {
     "data": {
      "text/plain": [
       "array([-3.02367458,  0.84338034])"
      ]
     },
     "execution_count": 33,
     "metadata": {},
     "output_type": "execute_result"
    }
   ],
   "source": [
    "#Calculating the Coefficients\n",
    "\n",
    "regressor.coef_"
   ]
  },
  {
   "cell_type": "markdown",
   "id": "6426c170",
   "metadata": {},
   "source": [
    "#### Calculating the Intercept\n",
    "This is the expected mean value of the y values"
   ]
  },
  {
   "cell_type": "code",
   "execution_count": 34,
   "id": "8177b4fc",
   "metadata": {},
   "outputs": [
    {
     "data": {
      "text/plain": [
       "13.947487380609125"
      ]
     },
     "execution_count": 34,
     "metadata": {},
     "output_type": "execute_result"
    }
   ],
   "source": [
    "regressor.intercept_"
   ]
  },
  {
   "cell_type": "code",
   "execution_count": 35,
   "id": "39eb0dd0",
   "metadata": {},
   "outputs": [
    {
     "data": {
      "text/plain": [
       "0.8448524145636875"
      ]
     },
     "execution_count": 35,
     "metadata": {},
     "output_type": "execute_result"
    }
   ],
   "source": [
    "#Calculating the R squared Value\n",
    "\n",
    "from sklearn.metrics import r2_score\n",
    "r2_score(y_test, y_prediction)"
   ]
  },
  {
   "cell_type": "markdown",
   "id": "7701aabb",
   "metadata": {},
   "source": [
    "The R squared score of 0.84 proves that the the linear Regression model is good."
   ]
  },
  {
   "cell_type": "code",
   "execution_count": 36,
   "id": "b18d9cd8",
   "metadata": {},
   "outputs": [
    {
     "data": {
      "image/png": "[encoded data removed]",
      "text/plain": [
       "<Figure size 640x480 with 1 Axes>"
      ]
     },
     "metadata": {},
     "output_type": "display_data"
    }
   ],
   "source": [
    "#Actual vs Predited Test Scores\n",
    "\n",
    "plt.scatter(y_test, y_prediction)\n",
    "plt.xlabel('Actual', fontweight='bold')\n",
    "plt.ylabel('Predicted', fontweight = 'bold')\n",
    "plt.title('Actual vs Predicted Test Scores', fontweight='heavy')\n",
    "\n",
    "plt.show()"
   ]
  },
  {
   "cell_type": "markdown",
   "id": "9402423f",
   "metadata": {},
   "source": [
    "# THANK YOU!!!"
   ]
  }
 ],
 "metadata": {
  "kernelspec": {
   "display_name": "Python 3 (ipykernel)",
   "language": "python",
   "name": "python3"
  },
  "language_info": {
   "codemirror_mode": {
    "name": "ipython",
    "version": 3
   },
   "file_extension": ".py",
   "mimetype": "text/x-python",
   "name": "python",
   "nbconvert_exporter": "python",
   "pygments_lexer": "ipython3",
   "version": "3.9.13"
  }
 },
 "nbformat": 4,
 "nbformat_minor": 5
}
