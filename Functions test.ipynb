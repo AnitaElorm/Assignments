{
 "cells": [
  {
   "cell_type": "markdown",
   "id": "352dd2e3",
   "metadata": {},
   "source": [
    "### Q1\n",
    "\n",
    "Define a python function that calculate the perimeter of the rectangle\n",
    "\n",
    "Formular\n",
    "\n",
    "formular => 2 X length + 2 X Width"
   ]
  },
  {
   "cell_type": "code",
   "execution_count": 1,
   "id": "4515ea7f",
   "metadata": {},
   "outputs": [
    {
     "name": "stdout",
     "output_type": "stream",
     "text": [
      "14\n"
     ]
    }
   ],
   "source": [
    "# Finding a perimeter of a rectangle\n",
    "def perimeter(a,b):\n",
    "    f = 2*a + 2*b\n",
    "    return f\n",
    "print(perimeter(3,4))"
   ]
  },
  {
   "cell_type": "markdown",
   "id": "a56ccec8",
   "metadata": {},
   "source": [
    "### Q2\n",
    "Define the function to calculate the area of a circle. Round the answer to 3 decimal places.\n",
    "\n",
    "**Preamble**\n",
    " - Take pi as 22/7\n",
    " - formular pi x r ** 2"
   ]
  },
  {
   "cell_type": "code",
   "execution_count": 3,
   "id": "95d9f6ee",
   "metadata": {},
   "outputs": [
    {
     "name": "stdout",
     "output_type": "stream",
     "text": [
      "176.786\n"
     ]
    }
   ],
   "source": [
    "# Finding the area of a circle\n",
    "def area(r):\n",
    "    pi = 22/7\n",
    "    a = pi* (r**2)\n",
    "    return round(a,3)\n",
    "print(area(7.5))"
   ]
  },
  {
   "cell_type": "markdown",
   "id": "be5a6965",
   "metadata": {},
   "source": [
    "### Q3\n",
    "Define a function that takes a list of numbers and print out the **mean**, **median** and **mode**.\n",
    "\n",
    "- Test your function with the list b\n",
    "\n",
    "`b = [2,3,4,6,7,3,4,3,2,1,3]`"
   ]
  },
  {
   "cell_type": "code",
   "execution_count": 7,
   "id": "5b9d4de8",
   "metadata": {},
   "outputs": [
    {
     "name": "stdout",
     "output_type": "stream",
     "text": [
      "(3.45, 3, 3)\n"
     ]
    }
   ],
   "source": [
    "b = [2,3,4,6,7,3,4,3,2,1,3]\n",
    "\n",
    "def functions(x):\n",
    "    mean = sum(x)/len(x)\n",
    "    \n",
    "    n = len(x)\n",
    "    x.sort()\n",
    "    if n % 2 == 0:\n",
    "        median1 = x[n//2]\n",
    "        median2 = x[n//2 - 1]\n",
    "        median = (median1 + median2)/2\n",
    "    else:\n",
    "        median = x[n//2]\n",
    "    \n",
    "    count = 0\n",
    "    mode = x[1]\n",
    "    for i in x:\n",
    "        most_occuring = x.count(i)\n",
    "        if most_occuring > count:\n",
    "            count = most_occuring\n",
    "            mode = i\n",
    "    return round(mean,2),median,mode\n",
    "print(functions(b))\n",
    "        "
   ]
  },
  {
   "cell_type": "markdown",
   "id": "3313ab10",
   "metadata": {},
   "source": [
    "### Q4\n",
    "Define a function that prints out the list of the first 20 prime numbers"
   ]
  },
  {
   "cell_type": "code",
   "execution_count": null,
   "id": "7c9b709c",
   "metadata": {},
   "outputs": [],
   "source": [
    "number = int(input(\"Enter a number : \"))\n",
    "for i in range(2,number):\n",
    "    if number%i == 0:\n",
    "        print(f\"{i} Not a prime number\")\n",
    "    else:\n",
    "        print(f\"{i} Is a prime number\")"
   ]
  },
  {
   "cell_type": "code",
   "execution_count": 21,
   "id": "b04ae8ba",
   "metadata": {},
   "outputs": [
    {
     "name": "stdout",
     "output_type": "stream",
     "text": [
      "2\n",
      "3\n",
      "5\n",
      "7\n",
      "11\n",
      "13\n",
      "17\n",
      "19\n",
      "23\n",
      "29\n",
      "31\n",
      "37\n",
      "41\n",
      "43\n",
      "47\n",
      "53\n",
      "59\n",
      "61\n",
      "67\n",
      "71\n"
     ]
    }
   ],
   "source": [
    "for num in range(2, 72):\n",
    "   # all prime numbers are greater than 1\n",
    "   if num > 1:\n",
    "       for i in range(2, num):\n",
    "           if (num % i) == 0:\n",
    "               break\n",
    "       else:\n",
    "           print(num)"
   ]
  },
  {
   "cell_type": "markdown",
   "id": "ef1c5863",
   "metadata": {},
   "source": [
    "#### Q5\n",
    "Define a function that takes a list of strings and print out the string and the length of the string.\n",
    "\n",
    "**Example of expected output**\n",
    "\n",
    "{\"Kofi\":4,\n",
    "\"Ama\":3,\n",
    "\"Sedem\":5}"
   ]
  },
  {
   "cell_type": "code",
   "execution_count": 10,
   "id": "d55b335d",
   "metadata": {},
   "outputs": [],
   "source": [
    "def string(lst):\n",
    "    a = dict()\n",
    "    for i in lst:\n",
    "        a [i]= len(i)\n",
    "    return a\n",
    "    "
   ]
  },
  {
   "cell_type": "code",
   "execution_count": 11,
   "id": "46a33911",
   "metadata": {},
   "outputs": [
    {
     "data": {
      "text/plain": [
       "{'Kofi': 4, 'Ama': 3, 'Emefa': 5}"
      ]
     },
     "execution_count": 11,
     "metadata": {},
     "output_type": "execute_result"
    }
   ],
   "source": [
    "string([\"Kofi\",\"Ama\",\"Emefa\"])"
   ]
  },
  {
   "cell_type": "markdown",
   "id": "5072c8d8",
   "metadata": {},
   "source": [
    "### Q6\n",
    "Define a function that takes a list of strings and numbers and print out only the strings and the position of the strings.\n",
    "\n",
    "**Preamble**\n",
    "\n",
    "names = ['sedem', 'Kofi', 'kobla']\n",
    "\n",
    "**Expected Output**\n",
    "\n",
    "{'sedem': P0, 'Kofi': P1, 'kobla': P2}"
   ]
  },
  {
   "cell_type": "code",
   "execution_count": 28,
   "id": "162d2799",
   "metadata": {},
   "outputs": [],
   "source": [
    "def string(lst):\n",
    "    a = dict()\n",
    "    for i in lst:\n",
    "        a[i]= \"P\" + str(lst.index(i))\n",
    "    return a"
   ]
  },
  {
   "cell_type": "code",
   "execution_count": 29,
   "id": "6fc1469d",
   "metadata": {},
   "outputs": [
    {
     "data": {
      "text/plain": [
       "{'sedem': 'P0', 'Kofi': 'P1', 'kobla': 'P2'}"
      ]
     },
     "execution_count": 29,
     "metadata": {},
     "output_type": "execute_result"
    }
   ],
   "source": [
    "string(['sedem', 'Kofi', 'kobla'])"
   ]
  },
  {
   "cell_type": "markdown",
   "id": "5593b665",
   "metadata": {},
   "source": [
    "### Q7\n",
    "Define a function that returns whether the sum of a person age and person's date of birth equals 2023\n",
    "\n",
    "**Preamble**\n",
    "\n",
    "2001 + 22 => True\n",
    "\n",
    "2002 + 5 => False"
   ]
  },
  {
   "cell_type": "code",
   "execution_count": 33,
   "id": "55c10e65",
   "metadata": {},
   "outputs": [],
   "source": [
    "#age = int(input(\"Enter age\"))\n",
    "def age_year(age,birth_year):\n",
    "    if age+birth_year == 2023:\n",
    "        return True\n",
    "    else:\n",
    "        return False\n",
    "        "
   ]
  },
  {
   "cell_type": "code",
   "execution_count": 37,
   "id": "c8a12873",
   "metadata": {},
   "outputs": [
    {
     "data": {
      "text/plain": [
       "True"
      ]
     },
     "execution_count": 37,
     "metadata": {},
     "output_type": "execute_result"
    }
   ],
   "source": [
    "age_year(22,2001)"
   ]
  },
  {
   "cell_type": "code",
   "execution_count": 36,
   "id": "7294c005",
   "metadata": {},
   "outputs": [
    {
     "data": {
      "text/plain": [
       "False"
      ]
     },
     "execution_count": 36,
     "metadata": {},
     "output_type": "execute_result"
    }
   ],
   "source": [
    "age_year(5,2002)"
   ]
  },
  {
   "cell_type": "markdown",
   "id": "f831e652",
   "metadata": {},
   "source": [
    "### Q8\n",
    "Define a function that determine whether a particular year is a **decade**, the output should be a boolean (True or False)\n"
   ]
  },
  {
   "cell_type": "code",
   "execution_count": 38,
   "id": "17f51924",
   "metadata": {},
   "outputs": [],
   "source": [
    "def decade(x):\n",
    "    if x%10 == 0:\n",
    "        return True\n",
    "    else:\n",
    "        return False"
   ]
  },
  {
   "cell_type": "code",
   "execution_count": 39,
   "id": "5a4b0ded",
   "metadata": {},
   "outputs": [
    {
     "data": {
      "text/plain": [
       "False"
      ]
     },
     "execution_count": 39,
     "metadata": {},
     "output_type": "execute_result"
    }
   ],
   "source": [
    "decade(2009)"
   ]
  },
  {
   "cell_type": "code",
   "execution_count": 40,
   "id": "d22c7c18",
   "metadata": {},
   "outputs": [
    {
     "data": {
      "text/plain": [
       "True"
      ]
     },
     "execution_count": 40,
     "metadata": {},
     "output_type": "execute_result"
    }
   ],
   "source": [
    "decade(2000)"
   ]
  },
  {
   "cell_type": "markdown",
   "id": "211c19e3",
   "metadata": {},
   "source": [
    "### Q9\n",
    "Define a function that contains a list of strings and punctuations,the output should on return the list of punctuations.\n"
   ]
  },
  {
   "cell_type": "code",
   "execution_count": 48,
   "id": "81306c74",
   "metadata": {},
   "outputs": [],
   "source": [
    "def punt_list(sentence):\n",
    "    from_sentence =[]\n",
    "    punctuations = [\"!\",\"#\",\"$\",\"%\",\"&\",\"()\",\",\",\"[]\",\":\",\"-\",\"_\",\":\"]\n",
    "    for i in sentence:\n",
    "            if i in punctuations:\n",
    "                from_sentence.append(i)\n",
    "    return from_sentence"
   ]
  },
  {
   "cell_type": "code",
   "execution_count": 49,
   "id": "431976b8",
   "metadata": {},
   "outputs": [
    {
     "data": {
      "text/plain": [
       "['!', '#', '$', '%', '&', '()', ',']"
      ]
     },
     "execution_count": 49,
     "metadata": {},
     "output_type": "execute_result"
    }
   ],
   "source": [
    "punt_list([\"!\",\"#\",\"$\",\"%\",\"&\",\"()\",\",\",\"table\",\"cup\",\"cat\"])"
   ]
  },
  {
   "cell_type": "markdown",
   "id": "34bae9ec",
   "metadata": {},
   "source": [
    "### Q10\n",
    "\n",
    "Define a lambda function that print out the cubic root of a list of numbers"
   ]
  },
  {
   "cell_type": "code",
   "execution_count": 10,
   "id": "7218c5d7",
   "metadata": {},
   "outputs": [],
   "source": [
    "y = [6,9,12]\n",
    "cubic_root = list(map (lambda x:x**1/3, y))"
   ]
  },
  {
   "cell_type": "code",
   "execution_count": 11,
   "id": "fac53e80",
   "metadata": {},
   "outputs": [
    {
     "data": {
      "text/plain": [
       "[2.0, 3.0, 4.0]"
      ]
     },
     "execution_count": 11,
     "metadata": {},
     "output_type": "execute_result"
    }
   ],
   "source": [
    "cubic_root"
   ]
  },
  {
   "cell_type": "markdown",
   "id": "37974632",
   "metadata": {},
   "source": [
    "### Q11\n",
    "Define a lambda function that print out the cube of a list of numbers"
   ]
  },
  {
   "cell_type": "code",
   "execution_count": 12,
   "id": "8ef47ac4",
   "metadata": {},
   "outputs": [],
   "source": [
    "y = [6,9,12]\n",
    "cubic_root = list(map (lambda x:x**3, y))"
   ]
  },
  {
   "cell_type": "code",
   "execution_count": 13,
   "id": "a815dfe5",
   "metadata": {},
   "outputs": [
    {
     "data": {
      "text/plain": [
       "[216, 729, 1728]"
      ]
     },
     "execution_count": 13,
     "metadata": {},
     "output_type": "execute_result"
    }
   ],
   "source": [
    "cubic_root"
   ]
  },
  {
   "cell_type": "markdown",
   "id": "b1522dbb",
   "metadata": {},
   "source": [
    "### Q12\n",
    "Define a function that take a list of list of numbers and return a list that contains the average of each sublist using map."
   ]
  },
  {
   "cell_type": "code",
   "execution_count": 1,
   "id": "11f4ea0b",
   "metadata": {},
   "outputs": [
    {
     "name": "stdout",
     "output_type": "stream",
     "text": [
      "[2.0, 5.0, 8.0]\n"
     ]
    }
   ],
   "source": [
    "def AvgList(lst):\n",
    "    return list(map(lambda x: sum(x)/len(x), lst))\n",
    "sub_lst = [[1, 2, 3], [4, 5, 6], [7, 8, 9]]\n",
    "Avg_num = AvgList(sub_lst)\n",
    "print(Avg_num)"
   ]
  },
  {
   "cell_type": "markdown",
   "id": "0fd5cd06",
   "metadata": {},
   "source": [
    "### Q13\n",
    "Define a function that takes a list of strings and filter out strings that are upper case."
   ]
  },
  {
   "cell_type": "code",
   "execution_count": 4,
   "id": "faf17ed9",
   "metadata": {},
   "outputs": [
    {
     "name": "stdout",
     "output_type": "stream",
     "text": [
      "['KOFI', 'DOG']\n"
     ]
    }
   ],
   "source": [
    "def upper_case(nouns):\n",
    "    return nouns.isupper()\n",
    "nouns = ['AMa','KOFI','ACCrA','DOG','osU']\n",
    "upper_nouns = list(filter(upper_case, nouns))\n",
    "print(upper_nouns)"
   ]
  },
  {
   "cell_type": "markdown",
   "id": "d0dddd17",
   "metadata": {},
   "source": [
    "### Q14\n",
    "Define a function that takes a list of numbers and print out the numbers which are prime in the list."
   ]
  },
  {
   "cell_type": "code",
   "execution_count": 5,
   "id": "0d1ae845",
   "metadata": {},
   "outputs": [],
   "source": [
    "def prime_numbers(nums):\n",
    "    for num in nums:\n",
    "        if num > 1:\n",
    "            for i in range(2, num):\n",
    "                if (num % i) == 0:\n",
    "                    break\n",
    "            else:\n",
    "                print(num)"
   ]
  },
  {
   "cell_type": "code",
   "execution_count": 6,
   "id": "86d691a3",
   "metadata": {},
   "outputs": [
    {
     "name": "stdout",
     "output_type": "stream",
     "text": [
      "2\n",
      "3\n",
      "5\n",
      "7\n",
      "11\n",
      "13\n",
      "17\n",
      "19\n"
     ]
    }
   ],
   "source": [
    "lst_numbers = [1,2,3,4,5,6,7,8,9,10,11,12,13,14,15,16,17,18,19,20]\n",
    "prime_numbers(lst_numbers)"
   ]
  },
  {
   "cell_type": "markdown",
   "id": "240741dc",
   "metadata": {},
   "source": [
    "### Q15\n",
    "Define a function that take a list of strings and return a zip of each string and length of a string."
   ]
  },
  {
   "cell_type": "markdown",
   "id": "44a1339f",
   "metadata": {},
   "source": [
    "### Q16\n",
    "Define a function that takes in a number and return the first 12 multiples of the the number.\n",
    "\n",
    "Expected Output\n",
    "\n",
    "2 X 1 = 2\n",
    "\n",
    "to\n",
    "\n",
    "2 X 12 = 24"
   ]
  },
  {
   "cell_type": "code",
   "execution_count": 48,
   "id": "62f8f8a5",
   "metadata": {},
   "outputs": [
    {
     "name": "stdout",
     "output_type": "stream",
     "text": [
      "2 X 1 = 2\n",
      "2 X 2 = 4\n",
      "2 X 3 = 6\n",
      "2 X 4 = 8\n",
      "2 X 5 = 10\n",
      "2 X 6 = 12\n",
      "2 X 7 = 14\n",
      "2 X 8 = 16\n",
      "2 X 9 = 18\n",
      "2 X 10 = 20\n",
      "2 X 11 = 22\n",
      "2 X 12 = 24\n",
      " \n"
     ]
    }
   ],
   "source": [
    "def multiple_num(n):\n",
    "    count = 1\n",
    "    while count <= 12:\n",
    "        a = n * count\n",
    "        print(f\"{n} X {count} = {a}\")\n",
    "        count += 1\n",
    "    return \" \"\n",
    "print(multiple_num(2))"
   ]
  },
  {
   "cell_type": "markdown",
   "id": "cd63dd99",
   "metadata": {},
   "source": [
    "### Q17\n",
    "Write a Python function to find the maximum of three numbers.\n",
    "\n",
    "**Do not use the max function**"
   ]
  },
  {
   "cell_type": "code",
   "execution_count": 47,
   "id": "70947f33",
   "metadata": {},
   "outputs": [
    {
     "name": "stdout",
     "output_type": "stream",
     "text": [
      "The maximum number is 10.\n"
     ]
    }
   ],
   "source": [
    "def max_number(num_1, num_2, num_3):\n",
    "    max_num = num_1\n",
    "    if num_2 > max_num:\n",
    "        max_num = num_2\n",
    "    if num_3 > max_num:\n",
    "        max_num = num_3\n",
    "    return max_num\n",
    "max_num = max_number(10, 5, 7)\n",
    "print(f\"The maximum number is {max_num}.\")"
   ]
  },
  {
   "cell_type": "markdown",
   "id": "67520c0b",
   "metadata": {},
   "source": [
    "### Q18\n",
    "Write a Python function to multiply all the numbers in a list."
   ]
  },
  {
   "cell_type": "code",
   "execution_count": 45,
   "id": "c366f7a5",
   "metadata": {},
   "outputs": [],
   "source": [
    "def multi_lst(nums):\n",
    "    x = 1\n",
    "    for num in nums:\n",
    "        x *= num\n",
    "    return x"
   ]
  },
  {
   "cell_type": "code",
   "execution_count": 46,
   "id": "8c8c0b90",
   "metadata": {},
   "outputs": [
    {
     "name": "stdout",
     "output_type": "stream",
     "text": [
      "The product of, [8, 2, 7, 4, 5] is 2240.\n"
     ]
    }
   ],
   "source": [
    "numbers = [8, 2, 7, 4, 5]\n",
    "multiple_result = multi_lst(numbers)\n",
    "print(f\"The product of, {numbers} is {multiple_result}.\")"
   ]
  },
  {
   "cell_type": "markdown",
   "id": "05891582",
   "metadata": {},
   "source": [
    "### Q19\n",
    "Write a Python program to reverse a string"
   ]
  },
  {
   "cell_type": "code",
   "execution_count": 43,
   "id": "02ac8da1",
   "metadata": {},
   "outputs": [],
   "source": [
    "def reverse_msg(msg):\n",
    "    reversed = \"\"\n",
    "    for x in range(len(msg)-1, -1, -1):\n",
    "        reversed += msg[x]\n",
    "    return reversed"
   ]
  },
  {
   "cell_type": "code",
   "execution_count": 44,
   "id": "c2f83913",
   "metadata": {},
   "outputs": [
    {
     "name": "stdout",
     "output_type": "stream",
     "text": [
      "The reverse of 'The stars are shining' is 'gninihs era srats ehT'.\n"
     ]
    }
   ],
   "source": [
    "msgs = \"The stars are shining\"\n",
    "rev_msgs = reverse_msg(msgs)\n",
    "print(f\"The reverse of '{msgs}' is '{rev_msgs}'.\")"
   ]
  },
  {
   "cell_type": "markdown",
   "id": "b9025ac8",
   "metadata": {},
   "source": [
    "### Q20\n",
    "Write a python function to return the length of a string."
   ]
  },
  {
   "cell_type": "code",
   "execution_count": 1,
   "id": "67f031b0",
   "metadata": {},
   "outputs": [
    {
     "name": "stdout",
     "output_type": "stream",
     "text": [
      "The length of the text is 17.\n"
     ]
    }
   ],
   "source": [
    "def len_of_string(text):\n",
    "    return len(text)\n",
    "text = \"I am good at this\"\n",
    "text_len = len_of_string(text)\n",
    "print(f\"The length of the text is {text_len}.\")"
   ]
  },
  {
   "cell_type": "markdown",
   "id": "8d1ee176",
   "metadata": {},
   "source": [
    "Have a lovely coding weekend"
   ]
  }
 ],
 "metadata": {
  "kernelspec": {
   "display_name": "Python 3 (ipykernel)",
   "language": "python",
   "name": "python3"
  },
  "language_info": {
   "codemirror_mode": {
    "name": "ipython",
    "version": 3
   },
   "file_extension": ".py",
   "mimetype": "text/x-python",
   "name": "python",
   "nbconvert_exporter": "python",
   "pygments_lexer": "ipython3",
   "version": "3.9.13"
  }
 },
 "nbformat": 4,
 "nbformat_minor": 5
}
